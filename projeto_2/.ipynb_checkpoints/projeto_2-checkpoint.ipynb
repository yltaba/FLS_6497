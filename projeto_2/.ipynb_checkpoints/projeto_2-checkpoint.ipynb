{
 "cells": [
  {
   "cell_type": "code",
   "execution_count": 11,
   "metadata": {},
   "outputs": [],
   "source": [
    "import pandas as pd\n",
    "import numpy as np\n",
    "from tensorflow import keras\n",
    "from tensorflow.keras.models import Sequential\n",
    "from tensorflow.keras.layers import Activation, Dense, Flatten, Conv2D, MaxPool2D, Dropout\n",
    "from tensorflow.keras.metrics import categorical_crossentropy, binary_crossentropy\n",
    "from tensorflow.keras.optimizers import Adam\n",
    "\n",
    "pd.set_option('display.max_columns', None)"
   ]
  },
  {
   "cell_type": "markdown",
   "metadata": {},
   "source": [
    "# Importação das bases de treino, validação e teste\n",
    "\n",
    "- batch size de 32 seguindo HML."
   ]
  },
  {
   "cell_type": "code",
   "execution_count": 2,
   "metadata": {},
   "outputs": [
    {
     "name": "stdout",
     "output_type": "stream",
     "text": [
      "Found 4000 files belonging to 2 classes.\n",
      "Found 500 files belonging to 2 classes.\n",
      "Found 495 files belonging to 2 classes.\n"
     ]
    }
   ],
   "source": [
    "train = (\n",
    "    keras.preprocessing.image_dataset_from_directory(\n",
    "        'mapas/treino',\n",
    "        image_size=(224,224),\n",
    "        batch_size=32,\n",
    "        label_mode='categorical',\n",
    "    )\n",
    ")\n",
    "\n",
    "validation = (\n",
    "    keras.preprocessing.image_dataset_from_directory(\n",
    "        'mapas/validacao',\n",
    "        image_size=(224,224),\n",
    "        batch_size=32,\n",
    "        label_mode='categorical',\n",
    "    )\n",
    ")\n",
    "\n",
    "test = (\n",
    "    keras.preprocessing.image_dataset_from_directory(\n",
    "        'mapas/teste',\n",
    "        image_size=(224,224),\n",
    "        batch_size=32,\n",
    "        label_mode='categorical',\n",
    "    )\n",
    ")"
   ]
  },
  {
   "cell_type": "markdown",
   "metadata": {},
   "source": [
    "# Primeiro modelo\n",
    "\n",
    "- usando duas camadas convolucionais (Conv2D)\n",
    "- pooling pelo valor máximo da \"convolved feature\"."
   ]
  },
  {
   "cell_type": "code",
   "execution_count": 3,
   "metadata": {},
   "outputs": [
    {
     "name": "stdout",
     "output_type": "stream",
     "text": [
      "Model: \"sequential\"\n",
      "_________________________________________________________________\n",
      " Layer (type)                Output Shape              Param #   \n",
      "=================================================================\n",
      " conv2d (Conv2D)             (None, 224, 224, 32)      896       \n",
      "                                                                 \n",
      " max_pooling2d (MaxPooling2D  (None, 112, 112, 32)     0         \n",
      " )                                                               \n",
      "                                                                 \n",
      " conv2d_1 (Conv2D)           (None, 112, 112, 64)      18496     \n",
      "                                                                 \n",
      " max_pooling2d_1 (MaxPooling  (None, 56, 56, 64)       0         \n",
      " 2D)                                                             \n",
      "                                                                 \n",
      " flatten (Flatten)           (None, 200704)            0         \n",
      "                                                                 \n",
      " dense (Dense)               (None, 2)                 401410    \n",
      "                                                                 \n",
      "=================================================================\n",
      "Total params: 420,802\n",
      "Trainable params: 420,802\n",
      "Non-trainable params: 0\n",
      "_________________________________________________________________\n"
     ]
    }
   ],
   "source": [
    "model = Sequential([\n",
    "    Conv2D(filters=32, kernel_size=(3,3), activation='relu', padding='same', input_shape=(224,224,3)),\n",
    "    MaxPool2D(pool_size=(2,2), strides=2),\n",
    "    Conv2D(filters=64, kernel_size=(3,3), activation='relu', padding='same'),\n",
    "    MaxPool2D(pool_size=(2,2), strides=2),\n",
    "    Flatten(),\n",
    "    Dense(units=2, activation='softmax')\n",
    "])\n",
    "\n",
    "\n",
    "model.compile(\n",
    "    optimizer=Adam(learning_rate=0.0001), \n",
    "    loss='binary_crossentropy', \n",
    "    metrics=['accuracy']\n",
    ")\n",
    "\n",
    "model.summary()"
   ]
  },
  {
   "cell_type": "markdown",
   "metadata": {},
   "source": [
    "Muito overfitting nos resultados:"
   ]
  },
  {
   "cell_type": "code",
   "execution_count": 10,
   "metadata": {},
   "outputs": [
    {
     "name": "stdout",
     "output_type": "stream",
     "text": [
      "Epoch 1/10\n",
      "125/125 [==============================] - 121s 968ms/step - loss: 0.5887 - accuracy: 0.7247 - val_loss: 0.5428 - val_accuracy: 0.7740\n",
      "Epoch 2/10\n",
      "125/125 [==============================] - 126s 1s/step - loss: 0.5888 - accuracy: 0.7247 - val_loss: 0.5413 - val_accuracy: 0.7740\n",
      "Epoch 3/10\n",
      "125/125 [==============================] - 135s 1s/step - loss: 0.5885 - accuracy: 0.7247 - val_loss: 0.5413 - val_accuracy: 0.7740\n",
      "Epoch 4/10\n",
      "125/125 [==============================] - 129s 1s/step - loss: 0.5879 - accuracy: 0.7247 - val_loss: 0.5423 - val_accuracy: 0.7740\n",
      "Epoch 5/10\n",
      "125/125 [==============================] - 133s 1s/step - loss: 0.5872 - accuracy: 0.7247 - val_loss: 0.5352 - val_accuracy: 0.7740\n",
      "Epoch 6/10\n",
      "125/125 [==============================] - 141s 1s/step - loss: 0.5861 - accuracy: 0.7247 - val_loss: 0.5380 - val_accuracy: 0.7740\n",
      "Epoch 7/10\n",
      "125/125 [==============================] - 177s 1s/step - loss: 0.5620 - accuracy: 0.7295 - val_loss: 0.6128 - val_accuracy: 0.6740\n",
      "Epoch 8/10\n",
      "125/125 [==============================] - 149s 1s/step - loss: 0.5874 - accuracy: 0.7243 - val_loss: 0.5283 - val_accuracy: 0.7740\n",
      "Epoch 9/10\n",
      "125/125 [==============================] - 190s 2s/step - loss: 0.4966 - accuracy: 0.7575 - val_loss: 0.3829 - val_accuracy: 0.8160\n",
      "Epoch 10/10\n",
      "125/125 [==============================] - 161s 1s/step - loss: 0.4320 - accuracy: 0.7893 - val_loss: 0.4179 - val_accuracy: 0.8260\n"
     ]
    }
   ],
   "source": [
    "model_history = model.fit(\n",
    "    x=train,\n",
    "    validation_data=validation,\n",
    "    epochs=10,\n",
    "    verbose=2\n",
    ")"
   ]
  },
  {
   "cell_type": "code",
   "execution_count": 14,
   "metadata": {},
   "outputs": [
    {
     "data": {
      "image/png": "[encoded data removed]",
      "text/plain": [
       "<Figure size 432x288 with 1 Axes>"
      ]
     },
     "metadata": {
      "needs_background": "light"
     },
     "output_type": "display_data"
    },
    {
     "data": {
      "image/png": "[encoded data removed]",
      "text/plain": [
       "<Figure size 432x288 with 1 Axes>"
      ]
     },
     "metadata": {
      "needs_background": "light"
     },
     "output_type": "display_data"
    }
   ],
   "source": [
    "import matplotlib.pyplot as plt\n",
    "\n",
    "accuracy = model_history.history['accuracy'] \n",
    "val_accuracy = model_history.history['val_accuracy'] \n",
    "loss = model_history.history['loss'] \n",
    "val_loss = model_history.history['val_loss'] \n",
    "epochs = range(len(accuracy)) \n",
    "plt.plot(epochs, accuracy, 'bo', label='Training accuracy') \n",
    "plt.plot(epochs, val_accuracy, 'b', label='Validation accuracy') \n",
    "plt.title('Training and validation accuracy') \n",
    "plt.legend() \n",
    "plt.figure() \n",
    "plt.plot(epochs, loss, 'bo', label='Training loss') \n",
    "plt.plot(epochs, val_loss, 'b', label='Validation loss') \n",
    "plt.title('Training and validation loss') \n",
    "plt.legend() \n",
    "plt.show()\n"
   ]
  },
  {
   "cell_type": "code",
   "execution_count": 17,
   "metadata": {},
   "outputs": [
    {
     "name": "stdout",
     "output_type": "stream",
     "text": [
      "Model: \"sequential_2\"\n",
      "_________________________________________________________________\n",
      " Layer (type)                Output Shape              Param #   \n",
      "=================================================================\n",
      " conv2d_4 (Conv2D)           (None, 224, 224, 32)      896       \n",
      "                                                                 \n",
      " max_pooling2d_4 (MaxPooling  (None, 112, 112, 32)     0         \n",
      " 2D)                                                             \n",
      "                                                                 \n",
      " conv2d_5 (Conv2D)           (None, 112, 112, 64)      18496     \n",
      "                                                                 \n",
      " max_pooling2d_5 (MaxPooling  (None, 56, 56, 64)       0         \n",
      " 2D)                                                             \n",
      "                                                                 \n",
      " dropout_2 (Dropout)         (None, 56, 56, 64)        0         \n",
      "                                                                 \n",
      " flatten_2 (Flatten)         (None, 200704)            0         \n",
      "                                                                 \n",
      " dense_2 (Dense)             (None, 2)                 401410    \n",
      "                                                                 \n",
      "=================================================================\n",
      "Total params: 420,802\n",
      "Trainable params: 420,802\n",
      "Non-trainable params: 0\n",
      "_________________________________________________________________\n"
     ]
    }
   ],
   "source": [
    "model_dropout = Sequential([\n",
    "    Conv2D(filters=32, kernel_size=(3,3), activation='relu', padding='same', input_shape=(224,224,3)),\n",
    "    MaxPool2D(pool_size=(2,2), strides=2),\n",
    "    Conv2D(filters=64, kernel_size=(3,3), activation='relu', padding='same'),\n",
    "    MaxPool2D(pool_size=(2,2), strides=2),\n",
    "    Dropout(0.3),\n",
    "    Flatten(),\n",
    "    Dense(units=2, activation='softmax')\n",
    "])\n",
    "\n",
    "model_dropout.compile(\n",
    "    optimizer=Adam(learning_rate=0.0001), \n",
    "    loss='binary_crossentropy', \n",
    "    metrics=['accuracy']\n",
    ")\n",
    "\n",
    "model_dropout.summary()"
   ]
  },
  {
   "cell_type": "code",
   "execution_count": 18,
   "metadata": {},
   "outputs": [
    {
     "name": "stdout",
     "output_type": "stream",
     "text": [
      "Epoch 1/5\n",
      "125/125 [==============================] - 139s 1s/step - loss: 161.3524 - accuracy: 0.7157 - val_loss: 0.5661 - val_accuracy: 0.7740\n",
      "Epoch 2/5\n",
      "125/125 [==============================] - 132s 1s/step - loss: 0.5645 - accuracy: 0.7310 - val_loss: 0.5663 - val_accuracy: 0.7660\n",
      "Epoch 3/5\n",
      "125/125 [==============================] - 149s 1s/step - loss: 0.5184 - accuracy: 0.7470 - val_loss: 0.6279 - val_accuracy: 0.7640\n",
      "Epoch 4/5\n",
      "125/125 [==============================] - 171s 1s/step - loss: 0.4913 - accuracy: 0.7620 - val_loss: 0.7239 - val_accuracy: 0.7520\n",
      "Epoch 5/5\n",
      " 90/125 [====================>.........] - ETA: 46s - loss: 0.4696 - accuracy: 0.7708"
     ]
    }
   ],
   "source": [
    "model_dropout_history = model_dropout.fit(\n",
    "    x=train,\n",
    "    validation_data=validation,\n",
    "    epochs=5,\n",
    "    verbose=1\n",
    ")"
   ]
  }
 ],
 "metadata": {
  "kernelspec": {
   "display_name": "Python 3 (ipykernel)",
   "language": "python",
   "name": "python3"
  },
  "language_info": {
   "codemirror_mode": {
    "name": "ipython",
    "version": 3
   },
   "file_extension": ".py",
   "mimetype": "text/x-python",
   "name": "python",
   "nbconvert_exporter": "python",
   "pygments_lexer": "ipython3",
   "version": "3.9.13"
  },
  "vscode": {
   "interpreter": {
    "hash": "3446cf101c0afad7039eefd5672a1d4819703149d96c9c2c72d5750774bc760c"
   }
  }
 },
 "nbformat": 4,
 "nbformat_minor": 2
}
