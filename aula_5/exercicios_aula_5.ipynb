{
 "cells": [
  {
   "cell_type": "code",
   "execution_count": 3,
   "metadata": {},
   "outputs": [],
   "source": [
    "import pandas as pd\n",
    "from sklearn.feature_extraction.text import CountVectorizer\n",
    "from nltk.corpus import stopwords\n",
    "import nltk"
   ]
  },
  {
   "cell_type": "markdown",
   "metadata": {},
   "source": [
    "1) Workflow\\\n",
    "Para esse exercício, será necessário carregar discursos presidenciais feitos por Dilma e Temer em parte de seus mandatos:"
   ]
  },
  {
   "cell_type": "code",
   "execution_count": 2,
   "metadata": {},
   "outputs": [
    {
     "data": {
      "text/html": [
       "<div>\n",
       "<style scoped>\n",
       "    .dataframe tbody tr th:only-of-type {\n",
       "        vertical-align: middle;\n",
       "    }\n",
       "\n",
       "    .dataframe tbody tr th {\n",
       "        vertical-align: top;\n",
       "    }\n",
       "\n",
       "    .dataframe thead th {\n",
       "        text-align: right;\n",
       "    }\n",
       "</style>\n",
       "<table border=\"1\" class=\"dataframe\">\n",
       "  <thead>\n",
       "    <tr style=\"text-align: right;\">\n",
       "      <th></th>\n",
       "      <th>data</th>\n",
       "      <th>presidente</th>\n",
       "      <th>discurso</th>\n",
       "      <th>planalto</th>\n",
       "    </tr>\n",
       "  </thead>\n",
       "  <tbody>\n",
       "    <tr>\n",
       "      <th>0</th>\n",
       "      <td>2012-12-16</td>\n",
       "      <td>Dilma</td>\n",
       "      <td>Boa noite, povo de Fortaleza e povo do Ceará.\\...</td>\n",
       "      <td>Outros locais</td>\n",
       "    </tr>\n",
       "    <tr>\n",
       "      <th>1</th>\n",
       "      <td>2015-10-09</td>\n",
       "      <td>Dilma</td>\n",
       "      <td>(Falha no áudio)... Luis Filipe de Carvalho Mo...</td>\n",
       "      <td>Outros locais</td>\n",
       "    </tr>\n",
       "    <tr>\n",
       "      <th>2</th>\n",
       "      <td>2013-06-14</td>\n",
       "      <td>Dilma</td>\n",
       "      <td>Boa tarde, queridos trabalhadores, queridas tr...</td>\n",
       "      <td>Outros locais</td>\n",
       "    </tr>\n",
       "    <tr>\n",
       "      <th>3</th>\n",
       "      <td>2011-03-22</td>\n",
       "      <td>Dilma</td>\n",
       "      <td>Vocês viram o Omar ficando vermelho? Pois ele ...</td>\n",
       "      <td>Outros locais</td>\n",
       "    </tr>\n",
       "    <tr>\n",
       "      <th>4</th>\n",
       "      <td>2015-12-22</td>\n",
       "      <td>Dilma</td>\n",
       "      <td>Eu queria começar cumprimentando aqui os traba...</td>\n",
       "      <td>Outros locais</td>\n",
       "    </tr>\n",
       "    <tr>\n",
       "      <th>...</th>\n",
       "      <td>...</td>\n",
       "      <td>...</td>\n",
       "      <td>...</td>\n",
       "      <td>...</td>\n",
       "    </tr>\n",
       "    <tr>\n",
       "      <th>594</th>\n",
       "      <td>2017-05-16</td>\n",
       "      <td>Temer</td>\n",
       "      <td>Olhem, prefeitos, prefeitas, vice-prefeitos, v...</td>\n",
       "      <td>Planalto</td>\n",
       "    </tr>\n",
       "    <tr>\n",
       "      <th>595</th>\n",
       "      <td>2017-11-29</td>\n",
       "      <td>Temer</td>\n",
       "      <td>Olha eu quero cumprimentar a todos.\\nA pessoa ...</td>\n",
       "      <td>Outros locais</td>\n",
       "    </tr>\n",
       "    <tr>\n",
       "      <th>596</th>\n",
       "      <td>2017-12-18</td>\n",
       "      <td>Temer</td>\n",
       "      <td>Eu quero cumprimentar a todos, começando pela ...</td>\n",
       "      <td>Outros locais</td>\n",
       "    </tr>\n",
       "    <tr>\n",
       "      <th>597</th>\n",
       "      <td>2017-12-12</td>\n",
       "      <td>Temer</td>\n",
       "      <td>Quero começar cumprimentando o João Martins da...</td>\n",
       "      <td>Outros locais</td>\n",
       "    </tr>\n",
       "    <tr>\n",
       "      <th>598</th>\n",
       "      <td>2017-12-21</td>\n",
       "      <td>Temer</td>\n",
       "      <td>Bem, eu quero saudar, saudar o presidente da R...</td>\n",
       "      <td>Outros locais</td>\n",
       "    </tr>\n",
       "  </tbody>\n",
       "</table>\n",
       "<p>599 rows × 4 columns</p>\n",
       "</div>"
      ],
      "text/plain": [
       "           data presidente                                           discurso  \\\n",
       "0    2012-12-16      Dilma  Boa noite, povo de Fortaleza e povo do Ceará.\\...   \n",
       "1    2015-10-09      Dilma  (Falha no áudio)... Luis Filipe de Carvalho Mo...   \n",
       "2    2013-06-14      Dilma  Boa tarde, queridos trabalhadores, queridas tr...   \n",
       "3    2011-03-22      Dilma  Vocês viram o Omar ficando vermelho? Pois ele ...   \n",
       "4    2015-12-22      Dilma  Eu queria começar cumprimentando aqui os traba...   \n",
       "..          ...        ...                                                ...   \n",
       "594  2017-05-16      Temer  Olhem, prefeitos, prefeitas, vice-prefeitos, v...   \n",
       "595  2017-11-29      Temer  Olha eu quero cumprimentar a todos.\\nA pessoa ...   \n",
       "596  2017-12-18      Temer  Eu quero cumprimentar a todos, começando pela ...   \n",
       "597  2017-12-12      Temer  Quero começar cumprimentando o João Martins da...   \n",
       "598  2017-12-21      Temer  Bem, eu quero saudar, saudar o presidente da R...   \n",
       "\n",
       "          planalto  \n",
       "0    Outros locais  \n",
       "1    Outros locais  \n",
       "2    Outros locais  \n",
       "3    Outros locais  \n",
       "4    Outros locais  \n",
       "..             ...  \n",
       "594       Planalto  \n",
       "595  Outros locais  \n",
       "596  Outros locais  \n",
       "597  Outros locais  \n",
       "598  Outros locais  \n",
       "\n",
       "[599 rows x 4 columns]"
      ]
     },
     "execution_count": 2,
     "metadata": {},
     "output_type": "execute_result"
    }
   ],
   "source": [
    "link = 'https://github.com/FLS-6497/datasets/raw/main/aula5/discursos_presidenciais.csv'\n",
    "discursos = pd.read_csv(link, sep=';')"
   ]
  },
  {
   "cell_type": "markdown",
   "metadata": {},
   "source": [
    "a) Pré-processamento\\\n",
    "Usando ferramentas de processamento de texto, implemente uma pequena pipeline para limpar dados e, quando estiver satisfeito com ela, crie uma função que aplique ela em uma nova lista textos."
   ]
  },
  {
   "cell_type": "code",
   "execution_count": 19,
   "metadata": {},
   "outputs": [
    {
     "name": "stdout",
     "output_type": "stream",
     "text": [
      "(599, 31047)\n"
     ]
    }
   ],
   "source": [
    "vct = (\n",
    "    CountVectorizer(\n",
    "        stop_words=stopwords.words('portuguese'),\n",
    "        token_pattern=r\"(?u)\\b\\w\\w\\w+\\b\"\n",
    "        )\n",
    "        )\n",
    "X = vct.fit_transform(discursos.discurso)   \n",
    "print(X.shape)"
   ]
  },
  {
   "cell_type": "markdown",
   "metadata": {},
   "source": [
    "b) Modelo\\\n",
    "Usando os frameworks de aprendizado de máquina, use a bag of words criada anteriormente para treinar algum modelo de classificação para predizer o nome do ou da presidente que proferiu cada discurso na amostra de teste."
   ]
  },
  {
   "cell_type": "code",
   "execution_count": 11,
   "metadata": {},
   "outputs": [
    {
     "name": "stdout",
     "output_type": "stream",
     "text": [
      "(599, 31473)\n"
     ]
    }
   ],
   "source": [
    "# usar só transform na base de teste."
   ]
  },
  {
   "cell_type": "markdown",
   "metadata": {},
   "source": [
    "c) Validação\\\n",
    "Roda o item pedido em b) 100 vezes e salve os resultados de alguma métrica de validação."
   ]
  },
  {
   "cell_type": "code",
   "execution_count": null,
   "metadata": {},
   "outputs": [],
   "source": []
  },
  {
   "cell_type": "markdown",
   "metadata": {},
   "source": [
    "2) Validação\\\n",
    "Como vimos, pré-processamento deve ser aplicado antes de fazermos split sample de validação (i.e., criar amostras de teste e de treino). Agora, implemente um workflow que leva isso em conta. Para tanto, você deverá criar uma função que separe textos em treino e teste, que aplique pré-processamento apenas na amostra de treino e que, depois, replique ele na amostra de teste para, então, rodar um algoritmo e calcular alguma métrica de validação."
   ]
  },
  {
   "cell_type": "code",
   "execution_count": null,
   "metadata": {},
   "outputs": [],
   "source": []
  },
  {
   "cell_type": "markdown",
   "metadata": {},
   "source": [
    "3) Benchmark\\\n",
    "Usando as ferramentas que vimos, experimente com os seguintes pré-processamentos:\n",
    "- Usando apenas palavras maiores do que 4 caracteres;\n",
    "- Removendo palavras que não ocorrem em, pelo menos, 10 documentos;\n",
    "- Removendo palavras que não ocorrem em, pelo menos, 10% dos documentos;\n",
    "- Usando TF-IDF para normalizar os elementos da matriz bag of words;"
   ]
  }
 ],
 "metadata": {
  "kernelspec": {
   "display_name": "Python 3.9.13 ('.venv': venv)",
   "language": "python",
   "name": "python3"
  },
  "language_info": {
   "codemirror_mode": {
    "name": "ipython",
    "version": 3
   },
   "file_extension": ".py",
   "mimetype": "text/x-python",
   "name": "python",
   "nbconvert_exporter": "python",
   "pygments_lexer": "ipython3",
   "version": "3.9.13"
  },
  "orig_nbformat": 4,
  "vscode": {
   "interpreter": {
    "hash": "8d8b3b9086d7537b463ce2edb472f0050480e10d1b50f2b002cc42805f0b0a17"
   }
  }
 },
 "nbformat": 4,
 "nbformat_minor": 2
}
