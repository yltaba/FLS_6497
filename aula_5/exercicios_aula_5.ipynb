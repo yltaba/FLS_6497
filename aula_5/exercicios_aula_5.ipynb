{
 "cells": [
  {
   "cell_type": "code",
   "execution_count": 23,
   "metadata": {},
   "outputs": [],
   "source": [
    "import pandas as pd\n",
    "from sklearn.feature_extraction.text import CountVectorizer\n",
    "from sklearn.feature_extraction.text import TfidfVectorizer\n",
    "from sklearn.feature_extraction.text import TfidfTransformer\n",
    "from sklearn.model_selection import train_test_split\n",
    "from sklearn.naive_bayes import GaussianNB\n",
    "from sklearn.metrics import confusion_matrix, accuracy_score\n",
    "import seaborn as sns\n",
    "import matplotlib.pyplot as plt\n",
    "from nltk.corpus import stopwords\n",
    "import nltk\n",
    "from sklearn.pipeline import Pipeline\n",
    "from sklearn.naive_bayes import GaussianNB"
   ]
  },
  {
   "cell_type": "markdown",
   "metadata": {},
   "source": [
    "1) Workflow\\\n",
    "Para esse exercício, será necessário carregar discursos presidenciais feitos por Dilma e Temer em parte de seus mandatos:"
   ]
  },
  {
   "cell_type": "code",
   "execution_count": 2,
   "metadata": {},
   "outputs": [],
   "source": [
    "link = 'https://github.com/FLS-6497/datasets/raw/main/aula5/discursos_presidenciais.csv'\n",
    "discursos = pd.read_csv(link, sep=';')"
   ]
  },
  {
   "cell_type": "markdown",
   "metadata": {},
   "source": [
    "a) Pré-processamento\\\n",
    "Usando ferramentas de processamento de texto, implemente uma pequena pipeline para limpar dados e, quando estiver satisfeito com ela, crie uma função que aplique ela em uma nova lista textos."
   ]
  },
  {
   "cell_type": "code",
   "execution_count": 3,
   "metadata": {},
   "outputs": [
    {
     "name": "stdout",
     "output_type": "stream",
     "text": [
      "(419, 1165)\n",
      "(180, 1165)\n"
     ]
    }
   ],
   "source": [
    "X = discursos.discurso\n",
    "y = discursos.presidente\n",
    "\n",
    "X_train, X_test, y_train, y_test = train_test_split(X, y, test_size=0.3)\n",
    "\n",
    "vec = CountVectorizer(\n",
    "        stop_words=stopwords.words('portuguese'),\n",
    "        token_pattern=r\"(?u)\\b\\w\\w\\w+\\b\",\n",
    "        analyzer='word', \n",
    "        ngram_range=(1, 2), \n",
    "        min_df=0.1\n",
    ")\n",
    "\n",
    "X_train = vec.fit_transform(X_train)\n",
    "X_test = vec.transform(X_test)\n",
    "\n",
    "print(X_train.shape)\n",
    "print(X_test.shape)"
   ]
  },
  {
   "cell_type": "markdown",
   "metadata": {},
   "source": [
    "b) Modelo\\\n",
    "Usando os frameworks de aprendizado de máquina, use a bag of words criada anteriormente para treinar algum modelo de classificação para predizer o nome do ou da presidente que proferiu cada discurso na amostra de teste."
   ]
  },
  {
   "cell_type": "code",
   "execution_count": 4,
   "metadata": {},
   "outputs": [
    {
     "data": {
      "text/plain": [
       "0.9666666666666667"
      ]
     },
     "execution_count": 4,
     "metadata": {},
     "output_type": "execute_result"
    }
   ],
   "source": [
    "X_train = X_train.toarray()\n",
    "X_test = X_test.toarray()\n",
    "\n",
    "gnb = GaussianNB()\n",
    "y_pred = gnb.fit(X_train, y_train).predict(X_test)\n",
    "\n",
    "(y_test == y_pred).sum() / len(y_test)"
   ]
  },
  {
   "cell_type": "markdown",
   "metadata": {},
   "source": [
    "c) Validação\\\n",
    "Roda o item pedido em b) 100 vezes e salve os resultados de alguma métrica de validação."
   ]
  },
  {
   "cell_type": "code",
   "execution_count": 22,
   "metadata": {},
   "outputs": [
    {
     "data": {
      "text/plain": [
       "<AxesSubplot:ylabel='Count'>"
      ]
     },
     "execution_count": 22,
     "metadata": {},
     "output_type": "execute_result"
    },
    {
     "data": {
      "image/png": "[encoded data removed]",
      "text/plain": [
       "<Figure size 432x288 with 1 Axes>"
      ]
     },
     "metadata": {
      "needs_background": "light"
     },
     "output_type": "display_data"
    }
   ],
   "source": [
    "def get_nb_accuracy():\n",
    "    X   = discursos.discurso\n",
    "    y = discursos.presidente\n",
    "\n",
    "    X_train, X_test, y_train, y_test = train_test_split(X, y, test_size=0.3)\n",
    "\n",
    "    vec = CountVectorizer(\n",
    "            stop_words=stopwords.words('portuguese'),\n",
    "            analyzer='word', \n",
    "            ngram_range=(1, 2), \n",
    "            min_df=0.1\n",
    "    )\n",
    "\n",
    "    X_train = vec.fit_transform(X_train)\n",
    "    X_test = vec.transform(X_test)\n",
    "\n",
    "    X_train = X_train.toarray()\n",
    "    X_test = X_test.toarray()\n",
    "\n",
    "    gnb = GaussianNB()\n",
    "    y_pred = gnb.fit(X_train, y_train).predict(X_test)\n",
    "        \n",
    "    accuracy_matrix = confusion_matrix(y_test, y_pred)\n",
    "    TP = accuracy_matrix[0,0]\n",
    "    FP = accuracy_matrix[1,0]\n",
    "    TN = accuracy_matrix[1,1]\n",
    "    FN = accuracy_matrix[0,1]\n",
    "\n",
    "    accuracy = (TP + TN) / (TP + TN + FP + FN)\n",
    "    accuracy\n",
    "    \n",
    "    return accuracy\n",
    "\n",
    "accuracy = [get_nb_accuracy() for i in range(100)]\n",
    "sns.histplot(accuracy)"
   ]
  },
  {
   "cell_type": "markdown",
   "metadata": {},
   "source": [
    "2) Validação\\\n",
    "Como vimos, pré-processamento deve ser aplicado antes de fazermos split sample de validação (i.e., criar amostras de teste e de treino). Agora, implemente um workflow que leva isso em conta. Para tanto, você deverá criar uma função que separe textos em treino e teste, que aplique pré-processamento apenas na amostra de treino e que, depois, replique ele na amostra de teste para, então, rodar um algoritmo e calcular alguma métrica de validação."
   ]
  },
  {
   "cell_type": "code",
   "execution_count": 6,
   "metadata": {},
   "outputs": [],
   "source": []
  },
  {
   "cell_type": "markdown",
   "metadata": {},
   "source": [
    "3) Benchmark\\\n",
    "Usando as ferramentas que vimos, experimente com os seguintes pré-processamentos:\n",
    "- Usando apenas palavras maiores do que 4 caracteres;\n",
    "- Removendo palavras que não ocorrem em, pelo menos, 10 documentos;\n",
    "- Removendo palavras que não ocorrem em, pelo menos, 10% dos documentos;\n",
    "- Usando TF-IDF para normalizar os elementos da matriz bag of words;"
   ]
  },
  {
   "cell_type": "code",
   "execution_count": 24,
   "metadata": {},
   "outputs": [
    {
     "data": {
      "text/plain": [
       "<AxesSubplot:ylabel='Count'>"
      ]
     },
     "execution_count": 24,
     "metadata": {},
     "output_type": "execute_result"
    },
    {
     "data": {
      "image/png": "[encoded data removed]",
      "text/plain": [
       "<Figure size 432x288 with 1 Axes>"
      ]
     },
     "metadata": {
      "needs_background": "light"
     },
     "output_type": "display_data"
    }
   ],
   "source": [
    "def get_nb_accuracy_4():\n",
    "    X   = discursos.discurso\n",
    "    y = discursos.presidente\n",
    "\n",
    "    X_train, X_test, y_train, y_test = train_test_split(X, y, test_size=0.3)\n",
    "\n",
    "    vectorizer = TfidfVectorizer(\n",
    "        stop_words=stopwords.words('portuguese'),\n",
    "        token_pattern=r\"(?u)\\b\\w\\w\\w+\\b\",\n",
    "        analyzer='word', \n",
    "        ngram_range=(1, 2), \n",
    "        min_df=0.1\n",
    "    )\n",
    "\n",
    "    X_train = vectorizer.fit_transform(X_train)\n",
    "    X_test = vectorizer.transform(X_test)\n",
    "\n",
    "    X_train = X_train.toarray()\n",
    "    X_test = X_test.toarray()\n",
    "\n",
    "    gnb = GaussianNB()\n",
    "    y_pred = gnb.fit(X_train, y_train).predict(X_test)\n",
    "    accuracy_scr = accuracy_score(y_test, y_pred)\n",
    "    return accuracy_scr\n",
    "\n",
    "accuracy = [get_nb_accuracy() for i in range(100)]\n",
    "sns.histplot(accuracy)"
   ]
  }
 ],
 "metadata": {
  "kernelspec": {
   "display_name": "Python 3.10.4 64-bit (system)",
   "language": "python",
   "name": "python3"
  },
  "language_info": {
   "codemirror_mode": {
    "name": "ipython",
    "version": 3
   },
   "file_extension": ".py",
   "mimetype": "text/x-python",
   "name": "python",
   "nbconvert_exporter": "python",
   "pygments_lexer": "ipython3",
   "version": "3.10.4"
  },
  "orig_nbformat": 4,
  "vscode": {
   "interpreter": {
    "hash": "3446cf101c0afad7039eefd5672a1d4819703149d96c9c2c72d5750774bc760c"
   }
  }
 },
 "nbformat": 4,
 "nbformat_minor": 2
}
