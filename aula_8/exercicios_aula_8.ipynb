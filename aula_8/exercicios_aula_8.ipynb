{
 "cells": [
  {
   "cell_type": "code",
   "execution_count": 9,
   "metadata": {},
   "outputs": [],
   "source": [
    "import pandas as pd\n",
    "from sklearn.model_selection import train_test_split\n",
    "from sklearn.preprocessing import StandardScaler\n",
    "from sklearn.pipeline import Pipeline\n",
    "from sklearn.svm import SVR\n",
    "from sklearn.metrics import mean_squared_error\n",
    "from sklearn.decomposition import PCA, TruncatedSVD, KernelPCA\n",
    "from sklearn.linear_model import LinearRegression"
   ]
  },
  {
   "cell_type": "markdown",
   "metadata": {},
   "source": [
    "# 1) PCA\n",
    "Para esse exercício, usaremos novamente dados das eleições municipais de 2000:"
   ]
  },
  {
   "cell_type": "code",
   "execution_count": 2,
   "metadata": {},
   "outputs": [],
   "source": [
    "link = 'https://raw.githubusercontent.com/FLS-6497/datasets/main/aula7/eleicoes2000.csv'\n",
    "dados = pd.read_csv(link, sep=';', decimal=\",\").drop(['cod_mun_ibge', 'nome_municipio'], axis=1)"
   ]
  },
  {
   "cell_type": "markdown",
   "metadata": {},
   "source": [
    "## a) Criando uma pipeline\n",
    "Com os dados, implemente uma pipeline de classificação que use PCA para reduzir o número de features nos dados. Seu objetivo será predizer qual partido governa dado município. Calcule alguma métrica de validação.\n"
   ]
  },
  {
   "cell_type": "code",
   "execution_count": 3,
   "metadata": {},
   "outputs": [
    {
     "data": {
      "text/plain": [
       "0.5315855978406862"
      ]
     },
     "execution_count": 3,
     "metadata": {},
     "output_type": "execute_result"
    }
   ],
   "source": [
    "dados[['outros_partidos', 'pmdb_psdb_pfl']] = pd.get_dummies(dados.partido)\n",
    "dados = pd.concat([\n",
    "        dados, \n",
    "        pd.get_dummies(dados.uf)\n",
    "        ], \n",
    "        axis=1\n",
    "    )\n",
    "dados = dados.drop(['uf', 'coligacao', 'partido', 'outros_partidos'], axis=1)\n",
    "\n",
    "y = dados.pmdb_psdb_pfl\n",
    "X = dados.loc[:, dados.columns != 'pmdb_psdb_pfl']\n",
    "\n",
    "X_train, X_test, y_train, y_test = train_test_split(X, y)\n",
    "\n",
    "pipe = Pipeline([\n",
    "    ('scale', StandardScaler()), \n",
    "    ('pca', PCA()), \n",
    "    ('svr', SVR())\n",
    "    ])\n",
    "\n",
    "pipe.fit(X_train, y_train)\n",
    "mean_squared_error(y_test, pipe.predict(X_test), squared=False)"
   ]
  },
  {
   "cell_type": "code",
   "execution_count": 10,
   "metadata": {},
   "outputs": [
    {
     "data": {
      "text/plain": [
       "0.480491289319278"
      ]
     },
     "execution_count": 10,
     "metadata": {},
     "output_type": "execute_result"
    }
   ],
   "source": [
    "pipe = Pipeline([\n",
    "    ('scale', StandardScaler()), \n",
    "    ('pca', PCA()), \n",
    "    ('ols', LinearRegression())\n",
    "    ])\n",
    "\n",
    "pipe.fit(X_train, y_train)\n",
    "mean_squared_error(y_test, pipe.predict(X_test), squared=False)"
   ]
  },
  {
   "cell_type": "markdown",
   "metadata": {},
   "source": [
    "## b) Testando diferentes pipelines\n",
    "Partindo da pipeline anterior, crie diferentes pipelines alterando o número de dimensões no PCA para 2, 3, 4 e 5. Rode essas pipelines e compare seus resultados."
   ]
  },
  {
   "cell_type": "code",
   "execution_count": 11,
   "metadata": {},
   "outputs": [
    {
     "data": {
      "text/plain": [
       "[0.4896977495013797,\n",
       " 0.48963289868914983,\n",
       " 0.4900648912517327,\n",
       " 0.4901177181735851]"
      ]
     },
     "execution_count": 11,
     "metadata": {},
     "output_type": "execute_result"
    }
   ],
   "source": [
    "def testing_dim_pca(dim):\n",
    "    \n",
    "    pipe = Pipeline([\n",
    "    ('scale', StandardScaler()), \n",
    "    ('pca', PCA(n_components=dim)), \n",
    "    ('ols', LinearRegression())\n",
    "    ])\n",
    "\n",
    "    pipe.fit(X_train, y_train)\n",
    "    return mean_squared_error(y_test, pipe.predict(X_test), squared=False)\n",
    "\n",
    "dims = [2, 3, 4, 5]\n",
    "[testing_dim_pca(dim=i) for i in dims]"
   ]
  },
  {
   "cell_type": "code",
   "execution_count": 12,
   "metadata": {},
   "outputs": [
    {
     "data": {
      "text/plain": [
       "[0.5568174214748597,\n",
       " 0.5477401092449328,\n",
       " 0.5365067197732825,\n",
       " 0.5256496643790551]"
      ]
     },
     "execution_count": 12,
     "metadata": {},
     "output_type": "execute_result"
    }
   ],
   "source": [
    "def testing_dim_pca(dim):\n",
    "    \n",
    "    pipe = Pipeline([\n",
    "    ('scale', StandardScaler()), \n",
    "    ('pca', PCA(n_components=dim)), \n",
    "    ('svr', SVR())\n",
    "    ])\n",
    "\n",
    "    pipe.fit(X_train, y_train)\n",
    "    return mean_squared_error(y_test, pipe.predict(X_test), squared=False)\n",
    "\n",
    "dims = [2, 3, 4, 5]\n",
    "[testing_dim_pca(dim=i) for i in dims]"
   ]
  },
  {
   "cell_type": "markdown",
   "metadata": {},
   "source": [
    "## c) Alternativas\n",
    "Checando a documentação do seu framework, implemente alguma alternativa ao PCA (exemplo: kernel PCA)."
   ]
  },
  {
   "cell_type": "code",
   "execution_count": 5,
   "metadata": {},
   "outputs": [
    {
     "data": {
      "text/plain": [
       "[0.557026471976934, 0.5481071961019471, 0.5322127957447597, 0.5307991117232226]"
      ]
     },
     "execution_count": 5,
     "metadata": {},
     "output_type": "execute_result"
    }
   ],
   "source": [
    "def testing_dim_tsvd(dim):\n",
    "    \n",
    "    pipe = Pipeline([\n",
    "    ('scale', StandardScaler()), \n",
    "    ('tsvd', TruncatedSVD(n_components=dim)), \n",
    "    ('svr', SVR())\n",
    "    ])\n",
    "\n",
    "    pipe.fit(X_train, y_train)\n",
    "    return mean_squared_error(y_test, pipe.predict(X_test), squared=False)\n",
    "\n",
    "dims = [2, 3, 4, 5]\n",
    "[testing_dim_tsvd(dim=i) for i in dims]"
   ]
  },
  {
   "cell_type": "code",
   "execution_count": 8,
   "metadata": {},
   "outputs": [
    {
     "data": {
      "text/plain": [
       "[0.5568619570577704, 0.548775536658938, 0.5366546794660529, 0.5243517468388741]"
      ]
     },
     "execution_count": 8,
     "metadata": {},
     "output_type": "execute_result"
    }
   ],
   "source": [
    "def testing_dim_kpca(dim):\n",
    "    \n",
    "    pipe = Pipeline([\n",
    "    ('scale', StandardScaler()), \n",
    "    ('kpca', KernelPCA(n_components=dim)), \n",
    "    ('svr', SVR())\n",
    "    ])\n",
    "\n",
    "    pipe.fit(X_train, y_train)\n",
    "    return mean_squared_error(y_test, pipe.predict(X_test), squared=False)\n",
    "\n",
    "dims = [2, 3, 4, 5]\n",
    "[testing_dim_kpca(dim=i) for i in dims]"
   ]
  },
  {
   "cell_type": "markdown",
   "metadata": {},
   "source": [
    "## 2) Clustering\n",
    "Para esse exercício, usaremos uma nova base de dados com gastos reportados dos gabinetes de deputados e deputadas federais até agora, em 2022, separados por tipo de gasto:"
   ]
  },
  {
   "cell_type": "code",
   "execution_count": 13,
   "metadata": {},
   "outputs": [],
   "source": [
    "link = 'https://raw.githubusercontent.com/FLS-6497/datasets/main/aula8/gabinetes22.csv'\n",
    "dados = pd.read_csv(link, sep=';', decimal=\",\")\n",
    "dados2 = dados.select_dtypes(['number'])"
   ]
  },
  {
   "cell_type": "markdown",
   "metadata": {},
   "source": [
    "## a) K-means\n",
    "Use K-means para separar os e as parlamentares em 4 grupos. Adicione essa classificação na base de dados original e a explore para tentar compreender quais são esses grupos."
   ]
  },
  {
   "cell_type": "code",
   "execution_count": null,
   "metadata": {},
   "outputs": [],
   "source": []
  }
 ],
 "metadata": {
  "kernelspec": {
   "display_name": "Python 3.9.13 ('base')",
   "language": "python",
   "name": "python3"
  },
  "language_info": {
   "codemirror_mode": {
    "name": "ipython",
    "version": 3
   },
   "file_extension": ".py",
   "mimetype": "text/x-python",
   "name": "python",
   "nbconvert_exporter": "python",
   "pygments_lexer": "ipython3",
   "version": "3.9.13"
  },
  "orig_nbformat": 4,
  "vscode": {
   "interpreter": {
    "hash": "db282d72d9094f42670b81036bd2e608e1e867a45d6a140d827485b7d7cf5bab"
   }
  }
 },
 "nbformat": 4,
 "nbformat_minor": 2
}
