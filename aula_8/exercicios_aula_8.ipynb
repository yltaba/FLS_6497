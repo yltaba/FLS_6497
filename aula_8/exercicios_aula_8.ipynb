{
 "cells": [
  {
   "cell_type": "code",
   "execution_count": 44,
   "metadata": {},
   "outputs": [],
   "source": [
    "import pandas as pd\n",
    "from sklearn.model_selection import train_test_split\n",
    "from sklearn.preprocessing import StandardScaler\n",
    "from sklearn.pipeline import Pipeline\n",
    "from sklearn.svm import SVR\n",
    "from sklearn.metrics import mean_squared_error\n",
    "from sklearn.decomposition import PCA, TruncatedSVD, KernelPCA\n",
    "from sklearn.linear_model import LinearRegression\n",
    "from sklearn.cluster import KMeans, DBSCAN, AgglomerativeClustering"
   ]
  },
  {
   "cell_type": "markdown",
   "metadata": {},
   "source": [
    "# 1) PCA\n",
    "Para esse exercício, usaremos novamente dados das eleições municipais de 2000:"
   ]
  },
  {
   "cell_type": "code",
   "execution_count": 2,
   "metadata": {},
   "outputs": [],
   "source": [
    "link = 'https://raw.githubusercontent.com/FLS-6497/datasets/main/aula7/eleicoes2000.csv'\n",
    "dados = pd.read_csv(link, sep=';', decimal=\",\").drop(['cod_mun_ibge', 'nome_municipio'], axis=1)"
   ]
  },
  {
   "cell_type": "markdown",
   "metadata": {},
   "source": [
    "## a) Criando uma pipeline\n",
    "Com os dados, implemente uma pipeline de classificação que use PCA para reduzir o número de features nos dados. Seu objetivo será predizer qual partido governa dado município. Calcule alguma métrica de validação.\n"
   ]
  },
  {
   "cell_type": "code",
   "execution_count": 3,
   "metadata": {},
   "outputs": [
    {
     "data": {
      "text/plain": [
       "0.5315115841002184"
      ]
     },
     "execution_count": 3,
     "metadata": {},
     "output_type": "execute_result"
    }
   ],
   "source": [
    "dados[['outros_partidos', 'pmdb_psdb_pfl']] = pd.get_dummies(dados.partido)\n",
    "dados = pd.concat([\n",
    "        dados, \n",
    "        pd.get_dummies(dados.uf)\n",
    "        ], \n",
    "        axis=1\n",
    "    )\n",
    "dados = dados.drop(['uf', 'coligacao', 'partido', 'outros_partidos'], axis=1)\n",
    "\n",
    "y = dados.pmdb_psdb_pfl\n",
    "X = dados.loc[:, dados.columns != 'pmdb_psdb_pfl']\n",
    "\n",
    "X_train, X_test, y_train, y_test = train_test_split(X, y)\n",
    "\n",
    "pipe = Pipeline([\n",
    "    ('scale', StandardScaler()), \n",
    "    ('pca', PCA()), \n",
    "    ('svr', SVR())\n",
    "    ])\n",
    "\n",
    "pipe.fit(X_train, y_train)\n",
    "mean_squared_error(y_test, pipe.predict(X_test), squared=False)"
   ]
  },
  {
   "cell_type": "code",
   "execution_count": 4,
   "metadata": {},
   "outputs": [
    {
     "data": {
      "text/plain": [
       "17386918036.631535"
      ]
     },
     "execution_count": 4,
     "metadata": {},
     "output_type": "execute_result"
    }
   ],
   "source": [
    "pipe = Pipeline([\n",
    "    ('scale', StandardScaler()), \n",
    "    ('pca', PCA()), \n",
    "    ('ols', LinearRegression())\n",
    "    ])\n",
    "\n",
    "pipe.fit(X_train, y_train)\n",
    "mean_squared_error(y_test, pipe.predict(X_test), squared=False)"
   ]
  },
  {
   "cell_type": "markdown",
   "metadata": {},
   "source": [
    "## b) Testando diferentes pipelines\n",
    "Partindo da pipeline anterior, crie diferentes pipelines alterando o número de dimensões no PCA para 2, 3, 4 e 5. Rode essas pipelines e compare seus resultados."
   ]
  },
  {
   "cell_type": "code",
   "execution_count": 5,
   "metadata": {},
   "outputs": [
    {
     "data": {
      "text/plain": [
       "[0.4906943373572336,\n",
       " 0.4904769953513785,\n",
       " 0.4901616556594419,\n",
       " 0.48931786662842264]"
      ]
     },
     "execution_count": 5,
     "metadata": {},
     "output_type": "execute_result"
    }
   ],
   "source": [
    "def testing_dim_pca(dim):\n",
    "    \n",
    "    pipe = Pipeline([\n",
    "    ('scale', StandardScaler()), \n",
    "    ('pca', PCA(n_components=dim)), \n",
    "    ('ols', LinearRegression())\n",
    "    ])\n",
    "\n",
    "    pipe.fit(X_train, y_train)\n",
    "    return mean_squared_error(y_test, pipe.predict(X_test), squared=False)\n",
    "\n",
    "dims = [2, 3, 4, 5]\n",
    "[testing_dim_pca(dim=i) for i in dims]"
   ]
  },
  {
   "cell_type": "code",
   "execution_count": 6,
   "metadata": {},
   "outputs": [
    {
     "data": {
      "text/plain": [
       "[0.5530309233719501, 0.5438201379291928, 0.53549325236647, 0.5267496098748562]"
      ]
     },
     "execution_count": 6,
     "metadata": {},
     "output_type": "execute_result"
    }
   ],
   "source": [
    "def testing_dim_pca(dim):\n",
    "    \n",
    "    pipe = Pipeline([\n",
    "    ('scale', StandardScaler()), \n",
    "    ('pca', PCA(n_components=dim)), \n",
    "    ('svr', SVR())\n",
    "    ])\n",
    "\n",
    "    pipe.fit(X_train, y_train)\n",
    "    return mean_squared_error(y_test, pipe.predict(X_test), squared=False)\n",
    "\n",
    "dims = [2, 3, 4, 5]\n",
    "[testing_dim_pca(dim=i) for i in dims]"
   ]
  },
  {
   "cell_type": "markdown",
   "metadata": {},
   "source": [
    "## c) Alternativas\n",
    "Checando a documentação do seu framework, implemente alguma alternativa ao PCA (exemplo: kernel PCA)."
   ]
  },
  {
   "cell_type": "code",
   "execution_count": 7,
   "metadata": {},
   "outputs": [
    {
     "data": {
      "text/plain": [
       "[0.5529809591948457,\n",
       " 0.5429421047356154,\n",
       " 0.5362774064827217,\n",
       " 0.5309984629687234]"
      ]
     },
     "execution_count": 7,
     "metadata": {},
     "output_type": "execute_result"
    }
   ],
   "source": [
    "def testing_dim_tsvd(dim):\n",
    "    \n",
    "    pipe = Pipeline([\n",
    "    ('scale', StandardScaler()), \n",
    "    ('tsvd', TruncatedSVD(n_components=dim)), \n",
    "    ('svr', SVR())\n",
    "    ])\n",
    "\n",
    "    pipe.fit(X_train, y_train)\n",
    "    return mean_squared_error(y_test, pipe.predict(X_test), squared=False)\n",
    "\n",
    "dims = [2, 3, 4, 5]\n",
    "[testing_dim_tsvd(dim=i) for i in dims]"
   ]
  },
  {
   "cell_type": "code",
   "execution_count": 8,
   "metadata": {},
   "outputs": [
    {
     "data": {
      "text/plain": [
       "[0.5528957750092991,\n",
       " 0.5430065582543826,\n",
       " 0.5376262392067007,\n",
       " 0.5285963923074474]"
      ]
     },
     "execution_count": 8,
     "metadata": {},
     "output_type": "execute_result"
    }
   ],
   "source": [
    "def testing_dim_kpca(dim):\n",
    "    \n",
    "    pipe = Pipeline([\n",
    "    ('scale', StandardScaler()), \n",
    "    ('kpca', KernelPCA(n_components=dim)), \n",
    "    ('svr', SVR())\n",
    "    ])\n",
    "\n",
    "    pipe.fit(X_train, y_train)\n",
    "    return mean_squared_error(y_test, pipe.predict(X_test), squared=False)\n",
    "\n",
    "dims = [2, 3, 4, 5]\n",
    "[testing_dim_kpca(dim=i) for i in dims]"
   ]
  },
  {
   "cell_type": "markdown",
   "metadata": {},
   "source": [
    "## 2) Clustering\n",
    "Para esse exercício, usaremos uma nova base de dados com gastos reportados dos gabinetes de deputados e deputadas federais até agora, em 2022, separados por tipo de gasto:"
   ]
  },
  {
   "cell_type": "code",
   "execution_count": 9,
   "metadata": {},
   "outputs": [],
   "source": [
    "link = 'https://raw.githubusercontent.com/FLS-6497/datasets/main/aula8/gabinetes22.csv'\n",
    "dados = pd.read_csv(link, sep=';', decimal=\",\")\n",
    "dados2 = dados.select_dtypes(['number'])"
   ]
  },
  {
   "cell_type": "markdown",
   "metadata": {},
   "source": [
    "## a) K-means\n",
    "Use K-means para separar os e as parlamentares em 4 grupos. Adicione essa classificação na base de dados original e a explore para tentar compreender quais são esses grupos."
   ]
  },
  {
   "cell_type": "code",
   "execution_count": 16,
   "metadata": {},
   "outputs": [],
   "source": [
    "kmeans = KMeans(n_clusters=4)\n",
    "kmeans.fit(dados2)\n",
    "dados2 = dados2.assign(kmeans = kmeans.labels_)"
   ]
  },
  {
   "cell_type": "code",
   "execution_count": 17,
   "metadata": {},
   "outputs": [
    {
     "data": {
      "text/html": [
       "<div>\n",
       "<style scoped>\n",
       "    .dataframe tbody tr th:only-of-type {\n",
       "        vertical-align: middle;\n",
       "    }\n",
       "\n",
       "    .dataframe tbody tr th {\n",
       "        vertical-align: top;\n",
       "    }\n",
       "\n",
       "    .dataframe thead th {\n",
       "        text-align: right;\n",
       "    }\n",
       "</style>\n",
       "<table border=\"1\" class=\"dataframe\">\n",
       "  <thead>\n",
       "    <tr style=\"text-align: right;\">\n",
       "      <th></th>\n",
       "      <th>kmeans</th>\n",
       "      <th>manutencao_de_escritorio_de_apoio_a_atividade_parlamentar</th>\n",
       "      <th>combustiveis_e_lubrificantes</th>\n",
       "      <th>consultorias_pesquisas_e_trabalhos_tecnicos</th>\n",
       "      <th>divulgacao_da_atividade_parlamentar</th>\n",
       "      <th>passagem_aerea_reembolso</th>\n",
       "      <th>telefonia</th>\n",
       "      <th>servicos_postais</th>\n",
       "      <th>fornecimento_de_alimentacao_do_parlamentar</th>\n",
       "      <th>hospedagem_exceto_do_parlamentar_no_distrito_federal</th>\n",
       "      <th>...</th>\n",
       "      <th>servico_de_taxi_pedagio_e_estacionamento</th>\n",
       "      <th>passagem_aerea_rpa</th>\n",
       "      <th>locacao_ou_fretamento_de_veiculos_automotores</th>\n",
       "      <th>passagem_aerea_sigepa</th>\n",
       "      <th>passagens_terrestres_maritimas_ou_fluviais</th>\n",
       "      <th>servico_de_seguranca_prestado_por_empresa_especializada</th>\n",
       "      <th>assinatura_de_publicacoes</th>\n",
       "      <th>aquisicao_de_tokens_e_certificados_digitais</th>\n",
       "      <th>locacao_ou_fretamento_de_embarcacoes</th>\n",
       "      <th>participacao_em_curso_palestra_ou_evento_similar</th>\n",
       "    </tr>\n",
       "  </thead>\n",
       "  <tbody>\n",
       "    <tr>\n",
       "      <th>0</th>\n",
       "      <td>0</td>\n",
       "      <td>19971.255165</td>\n",
       "      <td>19921.810000</td>\n",
       "      <td>11770.969451</td>\n",
       "      <td>34840.415934</td>\n",
       "      <td>1855.388242</td>\n",
       "      <td>4791.520000</td>\n",
       "      <td>1636.761868</td>\n",
       "      <td>361.408132</td>\n",
       "      <td>3262.906703</td>\n",
       "      <td>...</td>\n",
       "      <td>982.826593</td>\n",
       "      <td>7356.277363</td>\n",
       "      <td>26432.036593</td>\n",
       "      <td>69537.904451</td>\n",
       "      <td>91.179396</td>\n",
       "      <td>455.865440</td>\n",
       "      <td>212.543297</td>\n",
       "      <td>0.840659</td>\n",
       "      <td>186.538462</td>\n",
       "      <td>54.945055</td>\n",
       "    </tr>\n",
       "    <tr>\n",
       "      <th>1</th>\n",
       "      <td>1</td>\n",
       "      <td>21273.750260</td>\n",
       "      <td>24307.054026</td>\n",
       "      <td>120332.637662</td>\n",
       "      <td>46374.993896</td>\n",
       "      <td>3941.874805</td>\n",
       "      <td>4010.711558</td>\n",
       "      <td>852.911039</td>\n",
       "      <td>332.973117</td>\n",
       "      <td>2556.750000</td>\n",
       "      <td>...</td>\n",
       "      <td>574.552857</td>\n",
       "      <td>10992.261558</td>\n",
       "      <td>31491.681558</td>\n",
       "      <td>47274.284156</td>\n",
       "      <td>169.009481</td>\n",
       "      <td>2326.554026</td>\n",
       "      <td>8.948052</td>\n",
       "      <td>0.649351</td>\n",
       "      <td>0.000000</td>\n",
       "      <td>0.000000</td>\n",
       "    </tr>\n",
       "    <tr>\n",
       "      <th>2</th>\n",
       "      <td>2</td>\n",
       "      <td>65862.703351</td>\n",
       "      <td>37066.691702</td>\n",
       "      <td>14513.663883</td>\n",
       "      <td>45625.827926</td>\n",
       "      <td>3089.961170</td>\n",
       "      <td>7292.711383</td>\n",
       "      <td>3025.340319</td>\n",
       "      <td>1035.292979</td>\n",
       "      <td>5508.382128</td>\n",
       "      <td>...</td>\n",
       "      <td>2015.352713</td>\n",
       "      <td>23712.546383</td>\n",
       "      <td>64559.545319</td>\n",
       "      <td>37536.581649</td>\n",
       "      <td>228.993777</td>\n",
       "      <td>1321.904521</td>\n",
       "      <td>226.969043</td>\n",
       "      <td>0.000000</td>\n",
       "      <td>574.468085</td>\n",
       "      <td>0.000000</td>\n",
       "    </tr>\n",
       "    <tr>\n",
       "      <th>3</th>\n",
       "      <td>3</td>\n",
       "      <td>28068.205234</td>\n",
       "      <td>29276.206822</td>\n",
       "      <td>17923.366262</td>\n",
       "      <td>133498.234579</td>\n",
       "      <td>2500.473084</td>\n",
       "      <td>4966.850841</td>\n",
       "      <td>1722.000280</td>\n",
       "      <td>569.989720</td>\n",
       "      <td>3610.965607</td>\n",
       "      <td>...</td>\n",
       "      <td>1292.626449</td>\n",
       "      <td>12721.883738</td>\n",
       "      <td>34286.241121</td>\n",
       "      <td>47250.437664</td>\n",
       "      <td>74.278411</td>\n",
       "      <td>1653.686075</td>\n",
       "      <td>198.438131</td>\n",
       "      <td>2.378692</td>\n",
       "      <td>793.457944</td>\n",
       "      <td>0.000000</td>\n",
       "    </tr>\n",
       "  </tbody>\n",
       "</table>\n",
       "<p>4 rows × 21 columns</p>\n",
       "</div>"
      ],
      "text/plain": [
       "   kmeans  manutencao_de_escritorio_de_apoio_a_atividade_parlamentar  \\\n",
       "0       0                                       19971.255165           \n",
       "1       1                                       21273.750260           \n",
       "2       2                                       65862.703351           \n",
       "3       3                                       28068.205234           \n",
       "\n",
       "   combustiveis_e_lubrificantes  consultorias_pesquisas_e_trabalhos_tecnicos  \\\n",
       "0                  19921.810000                                 11770.969451   \n",
       "1                  24307.054026                                120332.637662   \n",
       "2                  37066.691702                                 14513.663883   \n",
       "3                  29276.206822                                 17923.366262   \n",
       "\n",
       "   divulgacao_da_atividade_parlamentar  passagem_aerea_reembolso    telefonia  \\\n",
       "0                         34840.415934               1855.388242  4791.520000   \n",
       "1                         46374.993896               3941.874805  4010.711558   \n",
       "2                         45625.827926               3089.961170  7292.711383   \n",
       "3                        133498.234579               2500.473084  4966.850841   \n",
       "\n",
       "   servicos_postais  fornecimento_de_alimentacao_do_parlamentar  \\\n",
       "0       1636.761868                                  361.408132   \n",
       "1        852.911039                                  332.973117   \n",
       "2       3025.340319                                 1035.292979   \n",
       "3       1722.000280                                  569.989720   \n",
       "\n",
       "   hospedagem_exceto_do_parlamentar_no_distrito_federal  ...  \\\n",
       "0                                        3262.906703     ...   \n",
       "1                                        2556.750000     ...   \n",
       "2                                        5508.382128     ...   \n",
       "3                                        3610.965607     ...   \n",
       "\n",
       "   servico_de_taxi_pedagio_e_estacionamento  passagem_aerea_rpa  \\\n",
       "0                                982.826593         7356.277363   \n",
       "1                                574.552857        10992.261558   \n",
       "2                               2015.352713        23712.546383   \n",
       "3                               1292.626449        12721.883738   \n",
       "\n",
       "   locacao_ou_fretamento_de_veiculos_automotores  passagem_aerea_sigepa  \\\n",
       "0                                   26432.036593           69537.904451   \n",
       "1                                   31491.681558           47274.284156   \n",
       "2                                   64559.545319           37536.581649   \n",
       "3                                   34286.241121           47250.437664   \n",
       "\n",
       "   passagens_terrestres_maritimas_ou_fluviais  \\\n",
       "0                                   91.179396   \n",
       "1                                  169.009481   \n",
       "2                                  228.993777   \n",
       "3                                   74.278411   \n",
       "\n",
       "   servico_de_seguranca_prestado_por_empresa_especializada  \\\n",
       "0                                         455.865440         \n",
       "1                                        2326.554026         \n",
       "2                                        1321.904521         \n",
       "3                                        1653.686075         \n",
       "\n",
       "   assinatura_de_publicacoes  aquisicao_de_tokens_e_certificados_digitais  \\\n",
       "0                 212.543297                                     0.840659   \n",
       "1                   8.948052                                     0.649351   \n",
       "2                 226.969043                                     0.000000   \n",
       "3                 198.438131                                     2.378692   \n",
       "\n",
       "   locacao_ou_fretamento_de_embarcacoes  \\\n",
       "0                            186.538462   \n",
       "1                              0.000000   \n",
       "2                            574.468085   \n",
       "3                            793.457944   \n",
       "\n",
       "   participacao_em_curso_palestra_ou_evento_similar  \n",
       "0                                         54.945055  \n",
       "1                                          0.000000  \n",
       "2                                          0.000000  \n",
       "3                                          0.000000  \n",
       "\n",
       "[4 rows x 21 columns]"
      ]
     },
     "execution_count": 17,
     "metadata": {},
     "output_type": "execute_result"
    }
   ],
   "source": [
    "dados2.groupby('kmeans', as_index=False).mean()"
   ]
  },
  {
   "cell_type": "code",
   "execution_count": 36,
   "metadata": {},
   "outputs": [
    {
     "data": {
      "text/plain": [
       "<AxesSubplot: >"
      ]
     },
     "execution_count": 36,
     "metadata": {},
     "output_type": "execute_result"
    },
    {
     "data": {
      "image/png": "[encoded data removed]",
      "text/plain": [
       "<Figure size 432x288 with 1 Axes>"
      ]
     },
     "metadata": {
      "needs_background": "light"
     },
     "output_type": "display_data"
    }
   ],
   "source": [
    "cols = dados2.columns[dados2.columns != 'kmeans']\n",
    "dados2['soma_gastos'] = dados2[cols].sum(axis=1)\n",
    "dados2.groupby('kmeans', as_index=False).soma_gastos.mean().plot(kind='bar')"
   ]
  },
  {
   "cell_type": "markdown",
   "metadata": {},
   "source": [
    "## b) Alternativas\n",
    "Use outro algoritmo de clustering e faça uma nova classificação dos e das parlamentares. Compare com a anterior para examinar as diferenças."
   ]
  },
  {
   "cell_type": "code",
   "execution_count": 45,
   "metadata": {},
   "outputs": [],
   "source": [
    "hierarq = AgglomerativeClustering()\n",
    "hierarq.fit(dados2)\n",
    "dados2 = dados2.assign(hierarq = hierarq.labels_)"
   ]
  },
  {
   "cell_type": "code",
   "execution_count": 50,
   "metadata": {},
   "outputs": [
    {
     "data": {
      "text/plain": [
       "<AxesSubplot: >"
      ]
     },
     "execution_count": 50,
     "metadata": {},
     "output_type": "execute_result"
    },
    {
     "data": {
      "image/png": "[encoded data removed]",
      "text/plain": [
       "<Figure size 432x288 with 1 Axes>"
      ]
     },
     "metadata": {
      "needs_background": "light"
     },
     "output_type": "display_data"
    }
   ],
   "source": [
    "dados2.groupby('hierarq', as_index=False).soma_gastos.mean().plot(kind='bar')"
   ]
  }
 ],
 "metadata": {
  "kernelspec": {
   "display_name": "Python 3.10.4 ('.venv': venv)",
   "language": "python",
   "name": "python3"
  },
  "language_info": {
   "codemirror_mode": {
    "name": "ipython",
    "version": 3
   },
   "file_extension": ".py",
   "mimetype": "text/x-python",
   "name": "python",
   "nbconvert_exporter": "python",
   "pygments_lexer": "ipython3",
   "version": "3.10.4"
  },
  "orig_nbformat": 4,
  "vscode": {
   "interpreter": {
    "hash": "3446cf101c0afad7039eefd5672a1d4819703149d96c9c2c72d5750774bc760c"
   }
  }
 },
 "nbformat": 4,
 "nbformat_minor": 2
}
